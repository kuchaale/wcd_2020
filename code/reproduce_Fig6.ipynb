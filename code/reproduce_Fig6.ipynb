{
 "cells": [
  {
   "cell_type": "markdown",
   "metadata": {
    "toc": true
   },
   "source": [
    "<h1>Table of Contents<span class=\"tocSkip\"></span></h1>\n",
    "<div class=\"toc\"><ul class=\"toc-item\"><li><span><a href=\"#Import-libraries\" data-toc-modified-id=\"Import-libraries-1\"><span class=\"toc-item-num\">1&nbsp;&nbsp;</span>Import libraries</a></span></li><li><span><a href=\"#Load-data\" data-toc-modified-id=\"Load-data-2\"><span class=\"toc-item-num\">2&nbsp;&nbsp;</span>Load data</a></span></li><li><span><a href=\"#Process-data\" data-toc-modified-id=\"Process-data-3\"><span class=\"toc-item-num\">3&nbsp;&nbsp;</span>Process data</a></span><ul class=\"toc-item\"><li><span><a href=\"#Spatial-average\" data-toc-modified-id=\"Spatial-average-3.1\"><span class=\"toc-item-num\">3.1&nbsp;&nbsp;</span>Spatial average</a></span></li></ul></li><li><span><a href=\"#Visualize\" data-toc-modified-id=\"Visualize-4\"><span class=\"toc-item-num\">4&nbsp;&nbsp;</span>Visualize</a></span></li></ul></div>"
   ]
  },
  {
   "cell_type": "markdown",
   "metadata": {},
   "source": [
    "# Import libraries"
   ]
  },
  {
   "cell_type": "code",
   "execution_count": 1,
   "metadata": {
    "ExecuteTime": {
     "end_time": "2020-04-27T21:22:51.201038Z",
     "start_time": "2020-04-27T21:22:49.450622Z"
    }
   },
   "outputs": [],
   "source": [
    "import xarray as xr\n",
    "import xarray.ufuncs as xrf\n",
    "from averaging import xarray_average\n",
    "import pandas as pd\n",
    "import numpy as np\n",
    "import matplotlib.pyplot as plt\n",
    "import seaborn as sns"
   ]
  },
  {
   "cell_type": "code",
   "execution_count": 2,
   "metadata": {
    "ExecuteTime": {
     "end_time": "2020-04-27T19:25:32.540398Z",
     "start_time": "2020-04-27T19:25:32.406731Z"
    }
   },
   "outputs": [
    {
     "name": "stdout",
     "output_type": "stream",
     "text": [
      "numpy   1.17.3\n",
      "seaborn 0.9.0\n",
      "xarray  0.14.1\n",
      "pandas  1.0.1\n",
      "CPython 3.6.9\n",
      "IPython 7.1.1\n",
      "\n",
      "compiler   : GCC 8.4.0\n",
      "system     : Linux\n",
      "release    : 4.15.0-96-generic\n",
      "machine    : x86_64\n",
      "processor  : x86_64\n",
      "CPU cores  : 8\n",
      "interpreter: 64bit\n"
     ]
    }
   ],
   "source": [
    "%reload_ext watermark\n",
    "%watermark --iversions -v -m"
   ]
  },
  {
   "cell_type": "markdown",
   "metadata": {},
   "source": [
    "# Load data"
   ]
  },
  {
   "cell_type": "code",
   "execution_count": 13,
   "metadata": {
    "ExecuteTime": {
     "end_time": "2020-04-28T00:16:36.354625Z",
     "start_time": "2020-04-28T00:16:35.624748Z"
    }
   },
   "outputs": [
    {
     "data": {
      "text/html": [
       "<pre>&lt;xarray.Dataset&gt;\n",
       "Dimensions:   (lat: 48, lon: 96, time: 11688)\n",
       "Coordinates:\n",
       "  * time      (time) datetime64[ns] 1979-01-01 1979-01-02 ... 2010-12-31\n",
       "    plev      float64 ...\n",
       "  * lat       (lat) float64 -87.16 -83.48 -79.78 -76.07 ... 79.78 83.48 87.16\n",
       "  * lon       (lon) float64 0.0 3.75 7.5 11.25 15.0 ... 345.0 348.8 352.5 356.2\n",
       "Data variables:\n",
       "    accelogw  (time, lat, lon) float64 ...</pre>"
      ],
      "text/plain": [
       "<xarray.Dataset>\n",
       "Dimensions:   (lat: 48, lon: 96, time: 11688)\n",
       "Coordinates:\n",
       "  * time      (time) datetime64[ns] 1979-01-01 1979-01-02 ... 2010-12-31\n",
       "    plev      float64 ...\n",
       "  * lat       (lat) float64 -87.16 -83.48 -79.78 -76.07 ... 79.78 83.48 87.16\n",
       "  * lon       (lon) float64 0.0 3.75 7.5 11.25 15.0 ... 345.0 348.8 352.5 356.2\n",
       "Data variables:\n",
       "    accelogw  (time, lat, lon) float64 ..."
      ]
     },
     "execution_count": 13,
     "metadata": {},
     "output_type": "execute_result"
    }
   ],
   "source": [
    "inpath = '/mnt/4data/CMAM/0A.daily/'\n",
    "ds = xr.open_dataset(f'{inpath}accelogw/accelogw_daily_CMAM_CMAM30-SD_r1i1p1_19790101-20101231_70hPa.nc')\n",
    "ds"
   ]
  },
  {
   "cell_type": "markdown",
   "metadata": {},
   "source": [
    "# Process data"
   ]
  },
  {
   "cell_type": "code",
   "execution_count": 14,
   "metadata": {
    "ExecuteTime": {
     "end_time": "2020-04-28T00:16:38.186743Z",
     "start_time": "2020-04-28T00:16:38.026463Z"
    }
   },
   "outputs": [],
   "source": [
    "time_mask = (ds.time.dt.month == 12) | (ds.time.dt.month == 1) | (ds.time.dt.month == 2)\n",
    "ds_sel = ds['accelogw'].sel(time = time_mask)\n",
    "\n",
    "sel_dict_ea = dict(lon =slice(110,145), lat=slice(30,48)) \n",
    "sel_dict_hi = dict(lon =slice(70,102.5), lat=slice(20,40)) \n",
    "sel_dict_wa = dict(lon =slice(-125+360,-102.5+360), lat=slice(27.5,52)) \n",
    "\n",
    "sel_dict_ls = {'Himalayas': sel_dict_hi, \\\n",
    "               'West America': sel_dict_wa, \\\n",
    "               'East Asia': sel_dict_ea}\n",
    "weights = xrf.cos(xrf.deg2rad(ds_sel.lat))"
   ]
  },
  {
   "cell_type": "code",
   "execution_count": 15,
   "metadata": {
    "ExecuteTime": {
     "end_time": "2020-04-28T00:16:41.856954Z",
     "start_time": "2020-04-28T00:16:40.089110Z"
    }
   },
   "outputs": [
    {
     "name": "stdout",
     "output_type": "stream",
     "text": [
      "Himalayas\n",
      "West America\n",
      "East Asia\n"
     ]
    },
    {
     "data": {
      "text/html": [
       "<div>\n",
       "<style scoped>\n",
       "    .dataframe tbody tr th:only-of-type {\n",
       "        vertical-align: middle;\n",
       "    }\n",
       "\n",
       "    .dataframe tbody tr th {\n",
       "        vertical-align: top;\n",
       "    }\n",
       "\n",
       "    .dataframe thead th {\n",
       "        text-align: right;\n",
       "    }\n",
       "</style>\n",
       "<table border=\"1\" class=\"dataframe\">\n",
       "  <thead>\n",
       "    <tr style=\"text-align: right;\">\n",
       "      <th></th>\n",
       "      <th>time</th>\n",
       "      <th>lat</th>\n",
       "      <th>lon</th>\n",
       "      <th>accelogw</th>\n",
       "      <th>g</th>\n",
       "    </tr>\n",
       "  </thead>\n",
       "  <tbody>\n",
       "    <tr>\n",
       "      <th>0</th>\n",
       "      <td>1979-01-01</td>\n",
       "      <td>20.411238</td>\n",
       "      <td>71.25</td>\n",
       "      <td>5.009432e-09</td>\n",
       "      <td>Himalayas</td>\n",
       "    </tr>\n",
       "    <tr>\n",
       "      <th>1</th>\n",
       "      <td>1979-01-01</td>\n",
       "      <td>20.411238</td>\n",
       "      <td>75.00</td>\n",
       "      <td>5.009432e-09</td>\n",
       "      <td>Himalayas</td>\n",
       "    </tr>\n",
       "    <tr>\n",
       "      <th>2</th>\n",
       "      <td>1979-01-01</td>\n",
       "      <td>20.411238</td>\n",
       "      <td>78.75</td>\n",
       "      <td>5.009432e-09</td>\n",
       "      <td>Himalayas</td>\n",
       "    </tr>\n",
       "    <tr>\n",
       "      <th>3</th>\n",
       "      <td>1979-01-01</td>\n",
       "      <td>20.411238</td>\n",
       "      <td>82.50</td>\n",
       "      <td>-2.866767e-01</td>\n",
       "      <td>Himalayas</td>\n",
       "    </tr>\n",
       "    <tr>\n",
       "      <th>4</th>\n",
       "      <td>1979-01-01</td>\n",
       "      <td>20.411238</td>\n",
       "      <td>86.25</td>\n",
       "      <td>-5.888247e-03</td>\n",
       "      <td>Himalayas</td>\n",
       "    </tr>\n",
       "  </tbody>\n",
       "</table>\n",
       "</div>"
      ],
      "text/plain": [
       "        time        lat    lon      accelogw          g\n",
       "0 1979-01-01  20.411238  71.25  5.009432e-09  Himalayas\n",
       "1 1979-01-01  20.411238  75.00  5.009432e-09  Himalayas\n",
       "2 1979-01-01  20.411238  78.75  5.009432e-09  Himalayas\n",
       "3 1979-01-01  20.411238  82.50 -2.866767e-01  Himalayas\n",
       "4 1979-01-01  20.411238  86.25 -5.888247e-03  Himalayas"
      ]
     },
     "execution_count": 15,
     "metadata": {},
     "output_type": "execute_result"
    }
   ],
   "source": [
    "ts_ls = []\n",
    "g_ls = []\n",
    "for hs_name in sel_dict_ls.keys():\n",
    "    print(hs_name)\n",
    "    sel_dict = sel_dict_ls[hs_name]\n",
    "    ds_sel_hs = ds_sel.sel(**sel_dict)\n",
    "    #ds_sel_hs = xarray_average(ds_sel_hs, dim = ['lat', 'lon'], weights = weights)#.load()\n",
    "    #ds_sel_hs.name = 'accelogw'\n",
    "    ts = ds_sel_hs.dropna('time').to_series().reset_index()\n",
    "    #sys.exit()\n",
    "    g_ls += [hs_name]*ts.shape[0]    \n",
    "    ts_ls.append(ts)\n",
    "\n",
    "df = pd.concat(ts_ls)\n",
    "df['g'] = g_ls\n",
    "df['accelogw'] = df['accelogw']*24*3600\n",
    "df.head()"
   ]
  },
  {
   "cell_type": "markdown",
   "metadata": {},
   "source": [
    "## Spatial average"
   ]
  },
  {
   "cell_type": "code",
   "execution_count": 16,
   "metadata": {
    "ExecuteTime": {
     "end_time": "2020-04-28T00:16:45.011192Z",
     "start_time": "2020-04-28T00:16:44.134863Z"
    }
   },
   "outputs": [
    {
     "data": {
      "text/html": [
       "<div>\n",
       "<style scoped>\n",
       "    .dataframe tbody tr th:only-of-type {\n",
       "        vertical-align: middle;\n",
       "    }\n",
       "\n",
       "    .dataframe tbody tr th {\n",
       "        vertical-align: top;\n",
       "    }\n",
       "\n",
       "    .dataframe thead th {\n",
       "        text-align: right;\n",
       "    }\n",
       "</style>\n",
       "<table border=\"1\" class=\"dataframe\">\n",
       "  <thead>\n",
       "    <tr style=\"text-align: right;\">\n",
       "      <th></th>\n",
       "      <th>time</th>\n",
       "      <th>accelogw</th>\n",
       "      <th>g</th>\n",
       "    </tr>\n",
       "  </thead>\n",
       "  <tbody>\n",
       "    <tr>\n",
       "      <th>0</th>\n",
       "      <td>1979-01-01</td>\n",
       "      <td>-1.062378</td>\n",
       "      <td>Himalayas</td>\n",
       "    </tr>\n",
       "    <tr>\n",
       "      <th>1</th>\n",
       "      <td>1979-01-02</td>\n",
       "      <td>-1.030545</td>\n",
       "      <td>Himalayas</td>\n",
       "    </tr>\n",
       "    <tr>\n",
       "      <th>2</th>\n",
       "      <td>1979-01-03</td>\n",
       "      <td>-1.483128</td>\n",
       "      <td>Himalayas</td>\n",
       "    </tr>\n",
       "    <tr>\n",
       "      <th>3</th>\n",
       "      <td>1979-01-04</td>\n",
       "      <td>-1.021822</td>\n",
       "      <td>Himalayas</td>\n",
       "    </tr>\n",
       "    <tr>\n",
       "      <th>4</th>\n",
       "      <td>1979-01-05</td>\n",
       "      <td>-1.749732</td>\n",
       "      <td>Himalayas</td>\n",
       "    </tr>\n",
       "  </tbody>\n",
       "</table>\n",
       "</div>"
      ],
      "text/plain": [
       "        time  accelogw          g\n",
       "0 1979-01-01 -1.062378  Himalayas\n",
       "1 1979-01-02 -1.030545  Himalayas\n",
       "2 1979-01-03 -1.483128  Himalayas\n",
       "3 1979-01-04 -1.021822  Himalayas\n",
       "4 1979-01-05 -1.749732  Himalayas"
      ]
     },
     "execution_count": 16,
     "metadata": {},
     "output_type": "execute_result"
    }
   ],
   "source": [
    "ts_ls = []\n",
    "g_ls = []\n",
    "for hs_name in sel_dict_ls.keys():\n",
    "    sel_dict = sel_dict_ls[hs_name]\n",
    "    ds_sel_hs = ds_sel.sel(**sel_dict)\n",
    "    ds_sel_hs = xarray_average(ds_sel_hs, dim = ['lat', 'lon'], weights = weights)#.load()\n",
    "    ds_sel_hs.name = 'accelogw'\n",
    "    ts = ds_sel_hs.dropna('time').to_series().reset_index()\n",
    "    g_ls += [hs_name]*ts.shape[0]    \n",
    "    ts_ls.append(ts)\n",
    "\n",
    "df2 = pd.concat(ts_ls)\n",
    "df2['g'] = g_ls\n",
    "df2['accelogw'] = df2['accelogw']*24*3600\n",
    "df2.head()"
   ]
  },
  {
   "cell_type": "markdown",
   "metadata": {},
   "source": [
    "# Visualize"
   ]
  },
  {
   "cell_type": "code",
   "execution_count": 7,
   "metadata": {
    "ExecuteTime": {
     "end_time": "2020-04-27T19:26:10.900651Z",
     "start_time": "2020-04-27T19:25:57.365082Z"
    }
   },
   "outputs": [
    {
     "data": {
      "text/plain": [
       "Text(13.564999999999998, 0.5, 'Occurrence density')"
      ]
     },
     "execution_count": 7,
     "metadata": {},
     "output_type": "execute_result"
    },
    {
     "data": {
      "image/png": "[encoded data removed]",
      "text/plain": [
       "<Figure size 1080x648 with 3 Axes>"
      ]
     },
     "metadata": {},
     "output_type": "display_data"
    }
   ],
   "source": [
    "plt.rcParams.update({'font.size': 18})\n",
    "# Initialize the FacetGrid object\n",
    "bins = np.arange(-90,5)\n",
    "xticks = np.arange(-90,10,10)\n",
    "min_xticks = np.arange(-85,5,10)\n",
    "nh = len(sel_dict_ls)\n",
    "pal = sns.cubehelix_palette(nh, light=.7) # rot=-.25,\n",
    "colors = [\"amber\", \"green\", \"purple\"] #  , \"greyish\",\n",
    "pal = sns.xkcd_palette(colors)\n",
    "sns.set_style(\"ticks\", {\"xtick.major.size\": 10, \"ytick.major.size\": 10})\n",
    "g = sns.FacetGrid(df, row=\"g\", hue=\"g\", aspect=5, palette=pal)\n",
    "\n",
    "\n",
    "g.map(sns.distplot, \"accelogw\", norm_hist = True, kde=False, rug=False, bins = bins)\n",
    "\n",
    "g.axes[0][0].axvline(x=-6.66, lw=3, clip_on=False, color = 'k')#pal[0])\n",
    "g.axes[1][0].axvline(x=-5.07, lw=3, clip_on=False, color = 'k')#pal[1])\n",
    "g.axes[2][0].axvline(x=-7.13, lw=3, clip_on=False, color = 'k')#pal[2])\n",
    "\n",
    "quantiles = df.groupby('g').quantile([0.01,0.1])['accelogw']\n",
    "for i, hs_name in enumerate(sel_dict_ls.keys()):\n",
    "    ax = g.axes[i][0]\n",
    "    sns.distplot(df2[\"accelogw\"][df2['g'] == hs_name], norm_hist = True, kde=False, rug=False, \\\n",
    "                 bins = bins, ax = ax)\n",
    "\n",
    "    ax.axvline(x=quantiles[hs_name][0.01], lw=3, clip_on=False, \\\n",
    "                         color = 'k', linestyle = 'dashed')\n",
    "    ax.axvline(x=quantiles[hs_name][0.1], lw=3, clip_on=False, \\\n",
    "                         color = 'k', linestyle = 'dashed')\n",
    "    \n",
    "    ax.tick_params(axis=\"y\",direction=\"out\", pad=10, labelsize = 15)\n",
    "    ax.tick_params(axis=\"x\",direction=\"out\", pad=10, labelsize = 15)\n",
    "    ax.xaxis.set_minor_locator(plt.MultipleLocator(5))\n",
    "    \n",
    "def label(x, color, label):\n",
    "    ax = plt.gca()\n",
    "    ax.text(0.2, .35, label, fontweight=\"bold\", color=color,\n",
    "            ha=\"left\", va=\"center\", transform=ax.transAxes)\n",
    "\n",
    "\n",
    "g.map(label, \"accelogw\")\n",
    "g.set(xticks=xticks)\n",
    "# Set the subplots to overlap\n",
    "#g.fig.subplots_adjust(hspace=-.25)\n",
    "\n",
    "# Remove axes details that don't play well with overlap\n",
    "g.set_titles(\"\")\n",
    "g.set(yscale=\"log\")\n",
    "g.axes[nh-1][0].set_xlabel('OGWD [m/s/day]', fontsize = 20)\n",
    "g.axes[nh-2][0].set_ylabel('Occurrence density', fontsize = 20)\n",
    "\n",
    "#plt.savefig('OGWD_distribution_hotspots_DJFonly.pdf', bbox_inches='tight') "
   ]
  }
 ],
 "metadata": {
  "hide_input": false,
  "kernelspec": {
   "display_name": "Python 3",
   "language": "python",
   "name": "python3"
  },
  "language_info": {
   "codemirror_mode": {
    "name": "ipython",
    "version": 3
   },
   "file_extension": ".py",
   "mimetype": "text/x-python",
   "name": "python",
   "nbconvert_exporter": "python",
   "pygments_lexer": "ipython3",
   "version": "3.6.9"
  },
  "latex_envs": {
   "LaTeX_envs_menu_present": true,
   "autoclose": false,
   "autocomplete": true,
   "bibliofile": "biblio.bib",
   "cite_by": "apalike",
   "current_citInitial": 1,
   "eqLabelWithNumbers": true,
   "eqNumInitial": 1,
   "hotkeys": {
    "equation": "Ctrl-E",
    "itemize": "Ctrl-I"
   },
   "labels_anchors": false,
   "latex_user_defs": false,
   "report_style_numbering": false,
   "user_envs_cfg": false
  },
  "toc": {
   "base_numbering": 1,
   "nav_menu": {},
   "number_sections": true,
   "sideBar": true,
   "skip_h1_title": false,
   "title_cell": "Table of Contents",
   "title_sidebar": "Contents",
   "toc_cell": true,
   "toc_position": {},
   "toc_section_display": true,
   "toc_window_display": false
  }
 },
 "nbformat": 4,
 "nbformat_minor": 2
}
