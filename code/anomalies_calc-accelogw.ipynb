{
 "cells": [
  {
   "cell_type": "markdown",
   "metadata": {
    "toc": true
   },
   "source": [
    "<h1>Table of Contents<span class=\"tocSkip\"></span></h1>\n",
    "<div class=\"toc\"><ul class=\"toc-item\"><li><span><a href=\"#Import-libraries\" data-toc-modified-id=\"Import-libraries-1\"><span class=\"toc-item-num\">1&nbsp;&nbsp;</span>Import libraries</a></span></li><li><span><a href=\"#Load-data\" data-toc-modified-id=\"Load-data-2\"><span class=\"toc-item-num\">2&nbsp;&nbsp;</span>Load data</a></span></li><li><span><a href=\"#p-values-calculation\" data-toc-modified-id=\"p-values-calculation-3\"><span class=\"toc-item-num\">3&nbsp;&nbsp;</span>p-values calculation</a></span></li></ul></div>"
   ]
  },
  {
   "cell_type": "markdown",
   "metadata": {},
   "source": [
    "# Import libraries"
   ]
  },
  {
   "cell_type": "code",
   "execution_count": 14,
   "metadata": {
    "ExecuteTime": {
     "end_time": "2020-04-28T20:33:21.682370Z",
     "start_time": "2020-04-28T20:33:21.671923Z"
    }
   },
   "outputs": [],
   "source": [
    "import xarray as xr\n",
    "import matplotlib.pyplot as plt\n",
    "import pandas as pd\n",
    "import random\n",
    "import numpy as np\n",
    "from scipy import stats\n",
    "import shapely.geometry as sgeom\n",
    "import scipy as sp\n",
    "%matplotlib inline"
   ]
  },
  {
   "cell_type": "code",
   "execution_count": 15,
   "metadata": {
    "ExecuteTime": {
     "end_time": "2020-04-28T20:33:23.639246Z",
     "start_time": "2020-04-28T20:33:23.474090Z"
    }
   },
   "outputs": [
    {
     "name": "stdout",
     "output_type": "stream",
     "text": [
      "xarray 0.14.1\n",
      "pandas 1.0.1\n",
      "numpy  1.17.3\n",
      "scipy  1.2.1\n",
      "CPython 3.6.9\n",
      "IPython 7.1.1\n",
      "\n",
      "compiler   : GCC 8.4.0\n",
      "system     : Linux\n",
      "release    : 4.15.0-96-generic\n",
      "machine    : x86_64\n",
      "processor  : x86_64\n",
      "CPU cores  : 8\n",
      "interpreter: 64bit\n"
     ]
    }
   ],
   "source": [
    "%reload_ext watermark\n",
    "%watermark --iversions -v -m -p scipy, shapely, matplotlib"
   ]
  },
  {
   "cell_type": "markdown",
   "metadata": {},
   "source": [
    "# Load data"
   ]
  },
  {
   "cell_type": "code",
   "execution_count": 2,
   "metadata": {
    "ExecuteTime": {
     "end_time": "2020-04-28T17:48:08.728723Z",
     "start_time": "2020-04-28T17:48:08.725246Z"
    }
   },
   "outputs": [],
   "source": [
    "var = 'accelogw'\n",
    "root_path = '/mnt/4data/CMAM/0A.daily/'"
   ]
  },
  {
   "cell_type": "code",
   "execution_count": 3,
   "metadata": {
    "ExecuteTime": {
     "end_time": "2020-04-28T17:09:53.383745Z",
     "start_time": "2020-04-28T17:03:50.948099Z"
    }
   },
   "outputs": [],
   "source": [
    "ds = xr.open_mfdataset(f'{root_path}{var}/{var}_6hrPlev_CMAM_CMAM30-SD_r1i1p1_*010100-*123118.nc', \\\n",
    "                      concat_dim = 'time', parallel = True, combine = 'nested')#.load()"
   ]
  },
  {
   "cell_type": "code",
   "execution_count": 4,
   "metadata": {
    "ExecuteTime": {
     "end_time": "2020-04-28T17:09:53.440711Z",
     "start_time": "2020-04-28T17:09:53.387676Z"
    }
   },
   "outputs": [],
   "source": [
    "ds_clim = xr.open_dataset(f'{root_path}{var}/{var}_climatology_woSSW.nc')"
   ]
  },
  {
   "cell_type": "code",
   "execution_count": 6,
   "metadata": {
    "ExecuteTime": {
     "end_time": "2020-04-28T17:19:18.170538Z",
     "start_time": "2020-04-28T17:19:17.591712Z"
    }
   },
   "outputs": [
    {
     "data": {
      "text/html": [
       "<pre>&lt;xarray.Dataset&gt;\n",
       "Dimensions:   (lat: 48, lon: 96, plev: 63, time: 46720)\n",
       "Coordinates:\n",
       "  * lat       (lat) float64 -87.16 -83.48 -79.78 -76.07 ... 79.78 83.48 87.16\n",
       "  * lon       (lon) float64 0.0 3.75 7.5 11.25 15.0 ... 345.0 348.8 352.5 356.2\n",
       "  * plev      (plev) float64 1e+05 9.25e+04 8.5e+04 8e+04 ... 0.2 0.15 0.1 0.07\n",
       "  * time      (time) object 1979-01-01 00:00:00 ... 2010-12-31 18:00:00\n",
       "    month     (time) int64 1 1 1 1 1 1 1 1 1 1 ... 12 12 12 12 12 12 12 12 12 12\n",
       "Data variables:\n",
       "    accelogw  (time, plev, lat, lon) float64 dask.array&lt;chunksize=(124, 63, 48, 96), meta=np.ndarray&gt;</pre>"
      ],
      "text/plain": [
       "<xarray.Dataset>\n",
       "Dimensions:   (lat: 48, lon: 96, plev: 63, time: 46720)\n",
       "Coordinates:\n",
       "  * lat       (lat) float64 -87.16 -83.48 -79.78 -76.07 ... 79.78 83.48 87.16\n",
       "  * lon       (lon) float64 0.0 3.75 7.5 11.25 15.0 ... 345.0 348.8 352.5 356.2\n",
       "  * plev      (plev) float64 1e+05 9.25e+04 8.5e+04 8e+04 ... 0.2 0.15 0.1 0.07\n",
       "  * time      (time) object 1979-01-01 00:00:00 ... 2010-12-31 18:00:00\n",
       "    month     (time) int64 1 1 1 1 1 1 1 1 1 1 ... 12 12 12 12 12 12 12 12 12 12\n",
       "Data variables:\n",
       "    accelogw  (time, plev, lat, lon) float64 dask.array<chunksize=(124, 63, 48, 96), meta=np.ndarray>"
      ]
     },
     "execution_count": 6,
     "metadata": {},
     "output_type": "execute_result"
    }
   ],
   "source": [
    "ds_anom = (ds[var].groupby('time.month') - ds_clim[var]).to_dataset()\n",
    "ds_anom"
   ]
  },
  {
   "cell_type": "code",
   "execution_count": 7,
   "metadata": {
    "ExecuteTime": {
     "end_time": "2020-04-28T17:43:18.330567Z",
     "start_time": "2020-04-28T17:19:28.477644Z"
    }
   },
   "outputs": [
    {
     "data": {
      "text/plain": [
       "<xarray.backends.zarr.ZarrStore at 0x7fa07f41f678>"
      ]
     },
     "execution_count": 7,
     "metadata": {},
     "output_type": "execute_result"
    }
   ],
   "source": [
    "what = 'anomalies'\n",
    "outfile = f'{root_path}{var}/{var}_6hrPlev_CMAM_CMAM30-SD_r1i1p1_19790101-20101231_{what}.zarr'\n",
    "ds_anom.chunk({'time': 124}).to_zarr(outfile, \\\n",
    "                                     mode = 'w')"
   ]
  },
  {
   "cell_type": "markdown",
   "metadata": {},
   "source": [
    "# p-values calculation"
   ]
  },
  {
   "cell_type": "code",
   "execution_count": 3,
   "metadata": {
    "ExecuteTime": {
     "end_time": "2020-04-28T17:48:11.489992Z",
     "start_time": "2020-04-28T17:48:11.485986Z"
    }
   },
   "outputs": [],
   "source": [
    "def g_kde(y, x):\n",
    "    kde = stats.gaussian_kde(y)\n",
    "    return kde(x)"
   ]
  },
  {
   "cell_type": "code",
   "execution_count": 4,
   "metadata": {
    "ExecuteTime": {
     "end_time": "2020-04-28T17:48:42.498855Z",
     "start_time": "2020-04-28T17:48:24.086043Z"
    }
   },
   "outputs": [
    {
     "data": {
      "text/html": [
       "<pre>&lt;xarray.Dataset&gt;\n",
       "Dimensions:   (lat: 48, lon: 96, plev: 63, time: 46720)\n",
       "Coordinates:\n",
       "  * lat       (lat) float64 -87.16 -83.48 -79.78 -76.07 ... 79.78 83.48 87.16\n",
       "  * lon       (lon) float64 0.0 3.75 7.5 11.25 15.0 ... 345.0 348.8 352.5 356.2\n",
       "    month     (time) int64 dask.array&lt;chunksize=(124,), meta=np.ndarray&gt;\n",
       "  * plev      (plev) float64 1e+05 9.25e+04 8.5e+04 8e+04 ... 0.2 0.15 0.1 0.07\n",
       "  * time      (time) object 1979-01-01 00:00:00 ... 2010-12-31 18:00:00\n",
       "Data variables:\n",
       "    accelogw  (time, plev, lat, lon) float64 dask.array&lt;chunksize=(124, 63, 48, 96), meta=np.ndarray&gt;</pre>"
      ],
      "text/plain": [
       "<xarray.Dataset>\n",
       "Dimensions:   (lat: 48, lon: 96, plev: 63, time: 46720)\n",
       "Coordinates:\n",
       "  * lat       (lat) float64 -87.16 -83.48 -79.78 -76.07 ... 79.78 83.48 87.16\n",
       "  * lon       (lon) float64 0.0 3.75 7.5 11.25 15.0 ... 345.0 348.8 352.5 356.2\n",
       "    month     (time) int64 dask.array<chunksize=(124,), meta=np.ndarray>\n",
       "  * plev      (plev) float64 1e+05 9.25e+04 8.5e+04 8e+04 ... 0.2 0.15 0.1 0.07\n",
       "  * time      (time) object 1979-01-01 00:00:00 ... 2010-12-31 18:00:00\n",
       "Data variables:\n",
       "    accelogw  (time, plev, lat, lon) float64 dask.array<chunksize=(124, 63, 48, 96), meta=np.ndarray>"
      ]
     },
     "execution_count": 4,
     "metadata": {},
     "output_type": "execute_result"
    }
   ],
   "source": [
    "time_scale = '20' # 20 or 30\n",
    "what = 'anomalies'\n",
    "factor = 24*3600\n",
    "comp_name_ls = ['himalayas', 'eastasia', 'westamer',]\n",
    "line_width = 5\n",
    "its = 10000\n",
    "ts_anom = xr.open_zarr(outfile)\n",
    "ts_anom"
   ]
  },
  {
   "cell_type": "code",
   "execution_count": 10,
   "metadata": {
    "ExecuteTime": {
     "end_time": "2020-04-28T19:40:37.051309Z",
     "start_time": "2020-04-28T18:49:14.781604Z"
    }
   },
   "outputs": [
    {
     "name": "stdout",
     "output_type": "stream",
     "text": [
      "himalayas 37\n",
      "      files prepared\n",
      "     10000 samples generated\n",
      "     p-values calculated\n",
      "     /mnt/4data/CMAM/0A.daily/composites_woSSW_DJFonly/accelogw_pvalues_from10000_comp_himalayas_20days_latlonbox.nc saved\n",
      "\n",
      "eastasia 37\n",
      "      files prepared\n",
      "     10000 samples generated\n",
      "     p-values calculated\n",
      "     /mnt/4data/CMAM/0A.daily/composites_woSSW_DJFonly/accelogw_pvalues_from10000_comp_eastasia_20days_latlonbox.nc saved\n",
      "\n",
      "westamer 25\n",
      "      files prepared\n",
      "     10000 samples generated\n",
      "     p-values calculated\n",
      "     /mnt/4data/CMAM/0A.daily/composites_woSSW_DJFonly/accelogw_pvalues_from10000_comp_westamer_20days_latlonbox.nc saved\n",
      "\n",
      "Done\n"
     ]
    }
   ],
   "source": [
    "DJF_bool = 'DJF'\n",
    "w_clim = f'_{DJF_bool}only'\n",
    "infile = f'{root_path}composites_woSSW'\n",
    "\n",
    "if DJF_bool == 'DJF':                                                          \n",
    "    size_dict = {'20': [37,37,25], '30': []}                               \n",
    "else:\n",
    "    size_dict = {'20': [45,74,36], '30': [38,66,35]} \n",
    "\n",
    "for comp_name, size in zip(comp_name_ls, size_dict[time_scale]):\n",
    "    print(comp_name, size)\n",
    "\n",
    "    if comp_name == 'himalayas':\n",
    "        box = sgeom.box(minx=70, maxx=102.5, miny=20, maxy=40)\n",
    "    elif comp_name == 'eastasia':\n",
    "        box = sgeom.box(minx=110, maxx=145, miny=30, maxy=48)\n",
    "    elif comp_name == 'westamer':\n",
    "        box = sgeom.box(minx=-125, maxx=-102.5, miny=27.5, maxy=52)\n",
    "    \n",
    "    box_lats = np.array(box.bounds)[1::2]\n",
    "    box_lons = np.array(box.bounds)[::2]\n",
    "    box_lons[box_lons < 0] += 360\n",
    "        \n",
    "    sel_dict = dict(lat = slice(box_lats[0], box_lats[1]), \\\n",
    "                    lon = slice(box_lons[0], box_lons[1]))  \n",
    "        \n",
    "    ds_comp = xr.open_dataarray(f'{infile}{w_clim}/{var}_anomalies_comp_{comp_name}_20days.nc')            \n",
    "    ds_comp = ds_comp.sel(**sel_dict).mean(['lat', 'lon'])*factor # .load()\n",
    "    ts_sel_anom = ts_anom[var].sel(**sel_dict).mean(['lat', 'lon'])*factor # .load()\n",
    "    print(\"\".ljust(line_width)+' files prepared')\n",
    "    \n",
    "    rnd_means = xr.concat([ts_sel_anom.isel(time = random.sample(range(ts_sel_anom.time.shape[0]), size)).mean('time') \\\n",
    "                       for n in range(its)], dim = 'its')\n",
    "    print(\"\".ljust(line_width)+'{} samples generated'.format(its))\n",
    "\n",
    "    da_kde = xr.apply_ufunc(g_kde, rnd_means, ds_comp,\\\n",
    "                       input_core_dims=[['its'], []],\\\n",
    "                       vectorize=True, dask='allowed')\n",
    "    print(\"\".ljust(line_width)+'p-values calculated')\n",
    "\n",
    "    outfile_name = f'{infile}{w_clim}/{var}_pvalues_from{its}_comp_{comp_name}_{time_scale}days_latlonbox.nc' \n",
    "    da_kde.to_netcdf(outfile_name)\n",
    "    print(\"\".ljust(line_width)+outfile_name+\" saved\")\n",
    "    print()\n",
    "    #sys.exit()\n",
    "                                \n",
    "print('Done')"
   ]
  }
 ],
 "metadata": {
  "hide_input": false,
  "kernelspec": {
   "display_name": "Python 3",
   "language": "python",
   "name": "python3"
  },
  "language_info": {
   "codemirror_mode": {
    "name": "ipython",
    "version": 3
   },
   "file_extension": ".py",
   "mimetype": "text/x-python",
   "name": "python",
   "nbconvert_exporter": "python",
   "pygments_lexer": "ipython3",
   "version": "3.6.9"
  },
  "latex_envs": {
   "LaTeX_envs_menu_present": true,
   "autoclose": false,
   "autocomplete": true,
   "bibliofile": "biblio.bib",
   "cite_by": "apalike",
   "current_citInitial": 1,
   "eqLabelWithNumbers": true,
   "eqNumInitial": 1,
   "hotkeys": {
    "equation": "Ctrl-E",
    "itemize": "Ctrl-I"
   },
   "labels_anchors": false,
   "latex_user_defs": false,
   "report_style_numbering": false,
   "user_envs_cfg": false
  },
  "toc": {
   "base_numbering": 1,
   "nav_menu": {},
   "number_sections": true,
   "sideBar": true,
   "skip_h1_title": false,
   "title_cell": "Table of Contents",
   "title_sidebar": "Contents",
   "toc_cell": true,
   "toc_position": {},
   "toc_section_display": true,
   "toc_window_display": false
  }
 },
 "nbformat": 4,
 "nbformat_minor": 2
}
