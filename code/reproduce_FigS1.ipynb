{
 "cells": [
  {
   "cell_type": "markdown",
   "metadata": {
    "toc": true
   },
   "source": [
    "<h1>Table of Contents<span class=\"tocSkip\"></span></h1>\n",
    "<div class=\"toc\"><ul class=\"toc-item\"><li><span><a href=\"#Data-loading\" data-toc-modified-id=\"Data-loading-1\"><span class=\"toc-item-num\">1&nbsp;&nbsp;</span>Data loading</a></span><ul class=\"toc-item\"><li><span><a href=\"#MERRA2\" data-toc-modified-id=\"MERRA2-1.1\"><span class=\"toc-item-num\">1.1&nbsp;&nbsp;</span>MERRA2</a></span></li><li><span><a href=\"#JRA55\" data-toc-modified-id=\"JRA55-1.2\"><span class=\"toc-item-num\">1.2&nbsp;&nbsp;</span>JRA55</a></span></li><li><span><a href=\"#CMAM\" data-toc-modified-id=\"CMAM-1.3\"><span class=\"toc-item-num\">1.3&nbsp;&nbsp;</span>CMAM</a></span></li></ul></li><li><span><a href=\"#Tendency-comparison-figure\" data-toc-modified-id=\"Tendency-comparison-figure-2\"><span class=\"toc-item-num\">2&nbsp;&nbsp;</span>Tendency comparison figure</a></span><ul class=\"toc-item\"><li><span><a href=\"#Ratios\" data-toc-modified-id=\"Ratios-2.1\"><span class=\"toc-item-num\">2.1&nbsp;&nbsp;</span>Ratios</a></span><ul class=\"toc-item\"><li><span><a href=\"#EPFD/(GWD+EPFD)\" data-toc-modified-id=\"EPFD/(GWD+EPFD)-2.1.1\"><span class=\"toc-item-num\">2.1.1&nbsp;&nbsp;</span>EPFD/(GWD+EPFD)</a></span></li></ul></li></ul></li></ul></div>"
   ]
  },
  {
   "cell_type": "code",
   "execution_count": 2,
   "metadata": {
    "ExecuteTime": {
     "end_time": "2020-04-28T12:45:27.330943Z",
     "start_time": "2020-04-28T12:45:25.888250Z"
    }
   },
   "outputs": [],
   "source": [
    "import xarray as xr\n",
    "import matplotlib.pyplot as plt\n",
    "\n",
    "%matplotlib inline"
   ]
  },
  {
   "cell_type": "code",
   "execution_count": 2,
   "metadata": {
    "ExecuteTime": {
     "end_time": "2020-04-28T12:04:17.916712Z",
     "start_time": "2020-04-28T12:04:17.884478Z"
    }
   },
   "outputs": [
    {
     "name": "stdout",
     "output_type": "stream",
     "text": [
      "xarray 0.14.1\n",
      "CPython 3.6.9\n",
      "IPython 7.1.1\n",
      "\n",
      "compiler   : GCC 8.4.0\n",
      "system     : Linux\n",
      "release    : 4.15.0-96-generic\n",
      "machine    : x86_64\n",
      "processor  : x86_64\n",
      "CPU cores  : 8\n",
      "interpreter: 64bit\n"
     ]
    }
   ],
   "source": [
    "%reload_ext watermark\n",
    "%watermark --iversions -v -m"
   ]
  },
  {
   "cell_type": "markdown",
   "metadata": {},
   "source": [
    "# Data loading"
   ]
  },
  {
   "cell_type": "markdown",
   "metadata": {},
   "source": [
    "## MERRA2"
   ]
  },
  {
   "cell_type": "code",
   "execution_count": 3,
   "metadata": {
    "ExecuteTime": {
     "end_time": "2020-04-28T12:45:27.565579Z",
     "start_time": "2020-04-28T12:45:27.527644Z"
    }
   },
   "outputs": [
    {
     "data": {
      "text/html": [
       "<pre>&lt;xarray.DataArray &#x27;EPFD_p_pr&#x27; (month: 12, lat: 144)&gt;\n",
       "array([[ 1.640446e-08,  5.887680e-08,  1.078962e-07, ...,  2.335819e-06,\n",
       "         1.508035e-06,  5.818754e-07],\n",
       "       [-9.466462e-08, -3.340001e-07, -6.235868e-07, ...,  1.841592e-06,\n",
       "         1.038651e-06,  4.054737e-07],\n",
       "       [-9.365323e-08, -3.218175e-07, -5.899923e-07, ...,  3.729630e-06,\n",
       "         2.362187e-06,  8.056923e-07],\n",
       "       ...,\n",
       "       [ 2.182503e-07,  3.933708e-07,  5.702058e-07, ..., -9.800426e-08,\n",
       "        -2.608738e-08,  2.394543e-08],\n",
       "       [ 1.908679e-07,  4.084932e-07,  6.500096e-07, ...,  1.109490e-06,\n",
       "         7.169285e-07,  3.216117e-07],\n",
       "       [ 1.498583e-07,  5.745125e-07,  9.417275e-07, ...,  1.688022e-06,\n",
       "         9.820146e-07,  4.108854e-07]], dtype=float32)\n",
       "Coordinates:\n",
       "    lev      float32 ...\n",
       "  * lat      (lat) float32 -89.375 -88.125 -86.875 ... 86.875 88.125 89.375\n",
       "  * month    (month) int64 1 2 3 4 5 6 7 8 9 10 11 12\n",
       "Attributes:\n",
       "    standard_name:  tendency_of_eastward_wind_due_to_eliassen_palm_flux_diver...\n",
       "    units:          m s-2\n",
       "    description:    Uses primitive equation\n",
       "    wavenumber:     \n",
       "    cell_methods:   time: mean</pre>"
      ],
      "text/plain": [
       "<xarray.DataArray 'EPFD_p_pr' (month: 12, lat: 144)>\n",
       "array([[ 1.640446e-08,  5.887680e-08,  1.078962e-07, ...,  2.335819e-06,\n",
       "         1.508035e-06,  5.818754e-07],\n",
       "       [-9.466462e-08, -3.340001e-07, -6.235868e-07, ...,  1.841592e-06,\n",
       "         1.038651e-06,  4.054737e-07],\n",
       "       [-9.365323e-08, -3.218175e-07, -5.899923e-07, ...,  3.729630e-06,\n",
       "         2.362187e-06,  8.056923e-07],\n",
       "       ...,\n",
       "       [ 2.182503e-07,  3.933708e-07,  5.702058e-07, ..., -9.800426e-08,\n",
       "        -2.608738e-08,  2.394543e-08],\n",
       "       [ 1.908679e-07,  4.084932e-07,  6.500096e-07, ...,  1.109490e-06,\n",
       "         7.169285e-07,  3.216117e-07],\n",
       "       [ 1.498583e-07,  5.745125e-07,  9.417275e-07, ...,  1.688022e-06,\n",
       "         9.820146e-07,  4.108854e-07]], dtype=float32)\n",
       "Coordinates:\n",
       "    lev      float32 ...\n",
       "  * lat      (lat) float32 -89.375 -88.125 -86.875 ... 86.875 88.125 89.375\n",
       "  * month    (month) int64 1 2 3 4 5 6 7 8 9 10 11 12\n",
       "Attributes:\n",
       "    standard_name:  tendency_of_eastward_wind_due_to_eliassen_palm_flux_diver...\n",
       "    units:          m s-2\n",
       "    description:    Uses primitive equation\n",
       "    wavenumber:     \n",
       "    cell_methods:   time: mean"
      ]
     },
     "execution_count": 3,
     "metadata": {},
     "output_type": "execute_result"
    }
   ],
   "source": [
    "inpath = ''\n",
    "ds_tem_merra_clim_epfd = xr.open_dataset(f'{inpath}EPFD_MERRA2_198001-201012_clim@70hPa.nc')['EPFD_p_pr']\n",
    "ds_tem_merra_clim_epfd"
   ]
  },
  {
   "cell_type": "code",
   "execution_count": 4,
   "metadata": {
    "ExecuteTime": {
     "end_time": "2020-04-28T12:45:30.009782Z",
     "start_time": "2020-04-28T12:45:29.982437Z"
    }
   },
   "outputs": [
    {
     "data": {
      "text/html": [
       "<pre>&lt;xarray.Dataset&gt;\n",
       "Dimensions:  (lat: 144, month: 12)\n",
       "Coordinates:\n",
       "    lev      float64 ...\n",
       "  * lat      (lat) float64 -89.38 -88.12 -86.88 -85.62 ... 86.88 88.12 89.38\n",
       "  * month    (month) int64 1 2 3 4 5 6 7 8 9 10 11 12\n",
       "Data variables:\n",
       "    DUDTANA  (month, lat) float32 ...\n",
       "    DUDTDYN  (month, lat) float32 ...\n",
       "    DUDTGWD  (month, lat) float32 ...\n",
       "    DUDTTRB  (month, lat) float32 ...\n",
       "Attributes:\n",
       "    CDI:                               Climate Data Interface version 1.6.9 (...\n",
       "    history:                           Mon Apr 27 23:41:34 2020: cdo -s -L -f...\n",
       "    Conventions:                       CF-1\n",
       "    History:                           Original file generated: Fri May  8 04...\n",
       "    Filename:                          MERRA2_100.tavgM_3d_udt_Np.198001.nc4\n",
       "    Comment:                           GMAO filename: d5124_m2_jan79.tavg3_3d...\n",
       "    Institution:                       NASA Global Modeling and Assimilation ...\n",
       "    References:                        http://gmao.gsfc.nasa.gov\n",
       "    Format:                            NetCDF-4/HDF-5\n",
       "    SpatialCoverage:                   global\n",
       "    VersionID:                         5.12.4\n",
       "    TemporalRange:                     1980-01-01 -&gt; 2016-12-31\n",
       "    identifier_product_doi_authority:  http://dx.doi.org/\n",
       "    ShortName:                         M2TMNPUDT\n",
       "    RangeBeginningDate:                1980-01-01\n",
       "    RangeEndingDate:                   1980-01-31\n",
       "    GranuleID:                         MERRA2_100.tavgM_3d_udt_Np.198001.nc4\n",
       "    ProductionDateTime:                Original file generated: Fri May  8 04...\n",
       "    LongName:                          MERRA2 tavg3_3d_udt_Np: 3d,3-Hourly,Ti...\n",
       "    Title:                             MERRA2 tavg3_3d_udt_Np: 3d,3-Hourly,Ti...\n",
       "    SouthernmostLatitude:              -90.0\n",
       "    NorthernmostLatitude:              90.0\n",
       "    WesternmostLongitude:              -180.0\n",
       "    EasternmostLongitude:              179.375\n",
       "    LatitudeResolution:                0.5\n",
       "    LongitudeResolution:               0.625\n",
       "    DataResolution:                    0.5 x 0.625 (42 pressure levels)\n",
       "    Contact:                           http://gmao.gsfc.nasa.gov\n",
       "    identifier_product_doi:            10.5067/YSR6IA5057XX\n",
       "    RangeBeginningTime:                00:00:00.000000\n",
       "    RangeEndingTime:                   23:59:59.000000\n",
       "    CDO:                               Climate Data Operators version 1.6.9 (...</pre>"
      ],
      "text/plain": [
       "<xarray.Dataset>\n",
       "Dimensions:  (lat: 144, month: 12)\n",
       "Coordinates:\n",
       "    lev      float64 ...\n",
       "  * lat      (lat) float64 -89.38 -88.12 -86.88 -85.62 ... 86.88 88.12 89.38\n",
       "  * month    (month) int64 1 2 3 4 5 6 7 8 9 10 11 12\n",
       "Data variables:\n",
       "    DUDTANA  (month, lat) float32 ...\n",
       "    DUDTDYN  (month, lat) float32 ...\n",
       "    DUDTGWD  (month, lat) float32 ...\n",
       "    DUDTTRB  (month, lat) float32 ...\n",
       "Attributes:\n",
       "    CDI:                               Climate Data Interface version 1.6.9 (...\n",
       "    history:                           Mon Apr 27 23:41:34 2020: cdo -s -L -f...\n",
       "    Conventions:                       CF-1\n",
       "    History:                           Original file generated: Fri May  8 04...\n",
       "    Filename:                          MERRA2_100.tavgM_3d_udt_Np.198001.nc4\n",
       "    Comment:                           GMAO filename: d5124_m2_jan79.tavg3_3d...\n",
       "    Institution:                       NASA Global Modeling and Assimilation ...\n",
       "    References:                        http://gmao.gsfc.nasa.gov\n",
       "    Format:                            NetCDF-4/HDF-5\n",
       "    SpatialCoverage:                   global\n",
       "    VersionID:                         5.12.4\n",
       "    TemporalRange:                     1980-01-01 -> 2016-12-31\n",
       "    identifier_product_doi_authority:  http://dx.doi.org/\n",
       "    ShortName:                         M2TMNPUDT\n",
       "    RangeBeginningDate:                1980-01-01\n",
       "    RangeEndingDate:                   1980-01-31\n",
       "    GranuleID:                         MERRA2_100.tavgM_3d_udt_Np.198001.nc4\n",
       "    ProductionDateTime:                Original file generated: Fri May  8 04...\n",
       "    LongName:                          MERRA2 tavg3_3d_udt_Np: 3d,3-Hourly,Ti...\n",
       "    Title:                             MERRA2 tavg3_3d_udt_Np: 3d,3-Hourly,Ti...\n",
       "    SouthernmostLatitude:              -90.0\n",
       "    NorthernmostLatitude:              90.0\n",
       "    WesternmostLongitude:              -180.0\n",
       "    EasternmostLongitude:              179.375\n",
       "    LatitudeResolution:                0.5\n",
       "    LongitudeResolution:               0.625\n",
       "    DataResolution:                    0.5 x 0.625 (42 pressure levels)\n",
       "    Contact:                           http://gmao.gsfc.nasa.gov\n",
       "    identifier_product_doi:            10.5067/YSR6IA5057XX\n",
       "    RangeBeginningTime:                00:00:00.000000\n",
       "    RangeEndingTime:                   23:59:59.000000\n",
       "    CDO:                               Climate Data Operators version 1.6.9 (..."
      ]
     },
     "execution_count": 4,
     "metadata": {},
     "output_type": "execute_result"
    }
   ],
   "source": [
    "da_merra2_clim_zm = xr.open_dataset(f'{inpath}MERRA2_GWD_climatology@70hPa_198001-201012.nc')\n",
    "da_merra2_clim_zm"
   ]
  },
  {
   "cell_type": "markdown",
   "metadata": {},
   "source": [
    "## JRA55"
   ]
  },
  {
   "cell_type": "code",
   "execution_count": 5,
   "metadata": {
    "ExecuteTime": {
     "end_time": "2020-04-28T12:45:33.012984Z",
     "start_time": "2020-04-28T12:45:32.991735Z"
    }
   },
   "outputs": [
    {
     "data": {
      "text/html": [
       "<pre>&lt;xarray.Dataset&gt;\n",
       "Dimensions:    (latitude: 145, month: 12)\n",
       "Coordinates:\n",
       "    pressure   float32 ...\n",
       "  * latitude   (latitude) float32 -90.0 -88.75 -87.5 -86.25 ... 87.5 88.75 90.0\n",
       "  * month      (month) int64 1 2 3 4 5 6 7 8 9 10 11 12\n",
       "Data variables:\n",
       "    EPFD_p_pr  (month, latitude) float32 ...</pre>"
      ],
      "text/plain": [
       "<xarray.Dataset>\n",
       "Dimensions:    (latitude: 145, month: 12)\n",
       "Coordinates:\n",
       "    pressure   float32 ...\n",
       "  * latitude   (latitude) float32 -90.0 -88.75 -87.5 -86.25 ... 87.5 88.75 90.0\n",
       "  * month      (month) int64 1 2 3 4 5 6 7 8 9 10 11 12\n",
       "Data variables:\n",
       "    EPFD_p_pr  (month, latitude) float32 ..."
      ]
     },
     "execution_count": 5,
     "metadata": {},
     "output_type": "execute_result"
    }
   ],
   "source": [
    "ds_tem_jra55_clim_epfd = xr.open_dataset(f'{inpath}EPFD_JRA55_198001-201012_clim@70hPa.nc')\n",
    "ds_tem_jra55_clim_epfd"
   ]
  },
  {
   "cell_type": "code",
   "execution_count": 6,
   "metadata": {
    "ExecuteTime": {
     "end_time": "2020-04-28T12:45:35.099331Z",
     "start_time": "2020-04-28T12:45:35.075267Z"
    }
   },
   "outputs": [
    {
     "data": {
      "text/html": [
       "<pre>&lt;xarray.DataArray &#x27;gwduahbl&#x27; (month: 12, latitude: 145)&gt;\n",
       "array([[0.000578, 0.000578, 0.000578, ..., 0.00291 , 0.000606, 0.000749],\n",
       "       [0.001085, 0.001463, 0.001463, ..., 0.001495, 0.001426, 0.001135],\n",
       "       [0.001046, 0.000415, 0.000415, ..., 0.001378, 0.000506, 0.000821],\n",
       "       ...,\n",
       "       [0.000358, 0.000358, 0.000358, ..., 0.00754 , 0.000703, 0.000596],\n",
       "       [0.000311, 0.000185, 0.000185, ..., 0.005315, 0.00031 , 0.00051 ],\n",
       "       [0.00068 , 0.000806, 0.000806, ..., 0.00476 , 0.000847, 0.00093 ]],\n",
       "      dtype=float32)\n",
       "Coordinates:\n",
       "    step      timedelta64[ns] ...\n",
       "    number    int64 ...\n",
       "  * latitude  (latitude) float64 90.0 88.75 87.5 86.25 ... -87.5 -88.75 -90.0\n",
       "    plev      int64 ...\n",
       "  * month     (month) int64 1 2 3 4 5 6 7 8 9 10 11 12</pre>"
      ],
      "text/plain": [
       "<xarray.DataArray 'gwduahbl' (month: 12, latitude: 145)>\n",
       "array([[0.000578, 0.000578, 0.000578, ..., 0.00291 , 0.000606, 0.000749],\n",
       "       [0.001085, 0.001463, 0.001463, ..., 0.001495, 0.001426, 0.001135],\n",
       "       [0.001046, 0.000415, 0.000415, ..., 0.001378, 0.000506, 0.000821],\n",
       "       ...,\n",
       "       [0.000358, 0.000358, 0.000358, ..., 0.00754 , 0.000703, 0.000596],\n",
       "       [0.000311, 0.000185, 0.000185, ..., 0.005315, 0.00031 , 0.00051 ],\n",
       "       [0.00068 , 0.000806, 0.000806, ..., 0.00476 , 0.000847, 0.00093 ]],\n",
       "      dtype=float32)\n",
       "Coordinates:\n",
       "    step      timedelta64[ns] ...\n",
       "    number    int64 ...\n",
       "  * latitude  (latitude) float64 90.0 88.75 87.5 86.25 ... -87.5 -88.75 -90.0\n",
       "    plev      int64 ...\n",
       "  * month     (month) int64 1 2 3 4 5 6 7 8 9 10 11 12"
      ]
     },
     "execution_count": 6,
     "metadata": {},
     "output_type": "execute_result"
    }
   ],
   "source": [
    "da_jra55_clim_zm = xr.open_dataarray(f'{inpath}JRA55_GWD_climatology@70hPa_198001-201012.nc')\n",
    "da_jra55_clim_zm"
   ]
  },
  {
   "cell_type": "markdown",
   "metadata": {},
   "source": [
    "## CMAM"
   ]
  },
  {
   "cell_type": "code",
   "execution_count": 8,
   "metadata": {
    "ExecuteTime": {
     "end_time": "2020-04-28T13:23:53.667682Z",
     "start_time": "2020-04-28T13:23:53.643558Z"
    }
   },
   "outputs": [],
   "source": [
    "inpath = f'/mnt/4data/CMAM/0A.daily/'\n",
    "da_epfd2_clim = xr.open_dataset(f'{inpath}acceldiv-calc_198001-201012_clim@70hPa.nc')['acceldiv-calc']\n",
    "da_epfd_clim = xr.open_dataset(f'{inpath}acceldiv_198001-201012_clim@70hPa.nc')['acceldiv']\n",
    "inpath = f''\n",
    "da_ogwd_clim = xr.open_dataarray(f'{inpath}CMAM_OGWD_climatology@70hPa_198001-201012.nc')\n",
    "da_nogwd_clim = xr.open_dataarray(f'{inpath}CMAM_NOGWD_climatology@70hPa_198001-201012.nc')"
   ]
  },
  {
   "cell_type": "code",
   "execution_count": 30,
   "metadata": {
    "ExecuteTime": {
     "end_time": "2020-04-28T12:25:34.607294Z",
     "start_time": "2020-04-28T12:25:34.589541Z"
    }
   },
   "outputs": [
    {
     "data": {
      "text/html": [
       "<pre>&lt;xarray.DataArray &#x27;acceldiv-calc&#x27; (month: 12, lat: 48)&gt;\n",
       "array([[-0.045584, -0.139638, -0.25664 , ..., -0.478024, -0.308565, -0.081453],\n",
       "       [-0.08388 , -0.206288, -0.294792, ..., -0.3022  , -0.157242,  0.018673],\n",
       "       [-0.119434, -0.219088, -0.269107, ..., -0.723937, -0.554265, -0.360408],\n",
       "       ...,\n",
       "       [ 0.284506,  0.428675,  0.522691, ..., -0.423347, -0.234383, -0.083093],\n",
       "       [ 0.177756,  0.114478, -0.002041, ..., -0.57399 , -0.358131, -0.169025],\n",
       "       [-0.119155, -0.26224 , -0.601203, ..., -0.444511, -0.327974, -0.13353 ]])\n",
       "Coordinates:\n",
       "    plev     float64 ...\n",
       "  * lat      (lat) float64 -87.16 -83.48 -79.78 -76.07 ... 79.78 83.48 87.16\n",
       "  * month    (month) int64 1 2 3 4 5 6 7 8 9 10 11 12\n",
       "Attributes:\n",
       "    units:          m s-2\n",
       "    standard_name:  ep_flux_divergence\n",
       "    long_name:      EP Flux Divergence</pre>"
      ],
      "text/plain": [
       "<xarray.DataArray 'acceldiv-calc' (month: 12, lat: 48)>\n",
       "array([[-0.045584, -0.139638, -0.25664 , ..., -0.478024, -0.308565, -0.081453],\n",
       "       [-0.08388 , -0.206288, -0.294792, ..., -0.3022  , -0.157242,  0.018673],\n",
       "       [-0.119434, -0.219088, -0.269107, ..., -0.723937, -0.554265, -0.360408],\n",
       "       ...,\n",
       "       [ 0.284506,  0.428675,  0.522691, ..., -0.423347, -0.234383, -0.083093],\n",
       "       [ 0.177756,  0.114478, -0.002041, ..., -0.57399 , -0.358131, -0.169025],\n",
       "       [-0.119155, -0.26224 , -0.601203, ..., -0.444511, -0.327974, -0.13353 ]])\n",
       "Coordinates:\n",
       "    plev     float64 ...\n",
       "  * lat      (lat) float64 -87.16 -83.48 -79.78 -76.07 ... 79.78 83.48 87.16\n",
       "  * month    (month) int64 1 2 3 4 5 6 7 8 9 10 11 12\n",
       "Attributes:\n",
       "    units:          m s-2\n",
       "    standard_name:  ep_flux_divergence\n",
       "    long_name:      EP Flux Divergence"
      ]
     },
     "execution_count": 30,
     "metadata": {},
     "output_type": "execute_result"
    }
   ],
   "source": [
    "da_epfd2_clim"
   ]
  },
  {
   "cell_type": "markdown",
   "metadata": {},
   "source": [
    "# Tendency comparison figure"
   ]
  },
  {
   "cell_type": "code",
   "execution_count": 12,
   "metadata": {
    "ExecuteTime": {
     "end_time": "2020-04-28T13:28:09.237043Z",
     "start_time": "2020-04-28T13:28:09.231348Z"
    }
   },
   "outputs": [
    {
     "name": "stderr",
     "output_type": "stream",
     "text": [
      "/usr/local/lib/python3.6/dist-packages/ipykernel_launcher.py:4: MatplotlibDeprecationWarning: \n",
      "The text.latex.unicode rcparam was deprecated in Matplotlib 3.0 and will be removed in 3.2.\n",
      "  after removing the cwd from sys.path.\n"
     ]
    }
   ],
   "source": [
    "plt.rcParams.update({'font.size': 22})\n",
    "import matplotlib\n",
    "matplotlib.rcParams['text.usetex'] = True\n",
    "matplotlib.rcParams['text.latex.unicode'] = True"
   ]
  },
  {
   "cell_type": "markdown",
   "metadata": {},
   "source": [
    "## Ratios"
   ]
  },
  {
   "cell_type": "markdown",
   "metadata": {},
   "source": [
    "### EPFD/(GWD+EPFD)"
   ]
  },
  {
   "cell_type": "code",
   "execution_count": 13,
   "metadata": {
    "ExecuteTime": {
     "end_time": "2020-04-28T13:28:10.967657Z",
     "start_time": "2020-04-28T13:28:09.290009Z"
    }
   },
   "outputs": [
    {
     "data": {
      "image/png": "[encoded data removed]",
      "text/plain": [
       "<Figure size 864x648 with 1 Axes>"
      ]
     },
     "metadata": {
      "needs_background": "light"
     },
     "output_type": "display_data"
    }
   ],
   "source": [
    "lw = 3\n",
    "fig = plt.figure(figsize=(12,9))\n",
    "\n",
    "total_merra = da_merra2_clim_zm['DUDTGWD'] + ds_tem_merra_clim_epfd\n",
    "ratio = (ds_tem_merra_clim_epfd/total_merra).sel(month = 1)\n",
    "ratio.plot(label = 'MERRA2', lw = lw, color = 'k')\n",
    "\n",
    "\n",
    "total_jra = da_jra55_clim_zm+ds_tem_jra55_clim_epfd['EPFD_p_pr']*24*3600\n",
    "ratio = ((ds_tem_jra55_clim_epfd['EPFD_p_pr']*24*3600)/total_jra).sel(month = 1)\n",
    "ratio.plot(label = 'JRA55', lw = lw+1, color = 'gray', ls = ':')\n",
    "\n",
    "\n",
    "total_cmam_gwd = da_ogwd_clim+da_nogwd_clim\n",
    "total_cmam = total_cmam_gwd+da_epfd2_clim\n",
    "ratio =  (da_epfd2_clim/total_cmam).sel(month = 1)\n",
    "ratio.plot(label = 'CMAM-sd', lw = lw)\n",
    "\n",
    "\n",
    "\n",
    "\n",
    "plt.xlabel('latitude [deg]')\n",
    "plt.legend()\n",
    "plt.ylim(0,1.5)\n",
    "plt.xlim(-20,90)\n",
    "plt.title('')\n",
    "plt.ylabel('EPFD/(GWD+EPFD)')\n",
    "plt.savefig('ratio_epfd_vs_total_january.pdf', bbox_inches='tight')"
   ]
  }
 ],
 "metadata": {
  "hide_input": false,
  "kernelspec": {
   "display_name": "Python 3",
   "language": "python",
   "name": "python3"
  },
  "language_info": {
   "codemirror_mode": {
    "name": "ipython",
    "version": 3
   },
   "file_extension": ".py",
   "mimetype": "text/x-python",
   "name": "python",
   "nbconvert_exporter": "python",
   "pygments_lexer": "ipython3",
   "version": "3.6.9"
  },
  "latex_envs": {
   "LaTeX_envs_menu_present": true,
   "autoclose": false,
   "autocomplete": true,
   "bibliofile": "biblio.bib",
   "cite_by": "apalike",
   "current_citInitial": 1,
   "eqLabelWithNumbers": true,
   "eqNumInitial": 1,
   "hotkeys": {
    "equation": "Ctrl-E",
    "itemize": "Ctrl-I"
   },
   "labels_anchors": false,
   "latex_user_defs": false,
   "report_style_numbering": false,
   "user_envs_cfg": false
  },
  "toc": {
   "base_numbering": 1,
   "nav_menu": {},
   "number_sections": true,
   "sideBar": true,
   "skip_h1_title": false,
   "title_cell": "Table of Contents",
   "title_sidebar": "Contents",
   "toc_cell": true,
   "toc_position": {},
   "toc_section_display": true,
   "toc_window_display": false
  }
 },
 "nbformat": 4,
 "nbformat_minor": 2
}
